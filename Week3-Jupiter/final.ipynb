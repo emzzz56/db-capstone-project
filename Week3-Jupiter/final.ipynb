{
 "cells": [
  {
   "cell_type": "code",
   "execution_count": 1,
   "id": "aef5aeff",
   "metadata": {},
   "outputs": [
    {
     "name": "stdout",
     "output_type": "stream",
     "text": [
      "Requirement already satisfied: mysql-connector-python in e:\\program files\\python\\lib\\site-packages (8.0.32)Note: you may need to restart the kernel to use updated packages.\n",
      "\n",
      "Requirement already satisfied: protobuf<=3.20.3,>=3.11.0 in e:\\program files\\python\\lib\\site-packages (from mysql-connector-python) (3.20.3)\n"
     ]
    }
   ],
   "source": [
    "!pip install mysql-connector-python"
   ]
  },
  {
   "cell_type": "code",
   "execution_count": 2,
   "id": "e352a903",
   "metadata": {},
   "outputs": [],
   "source": [
    "import mysql.connector as connector"
   ]
  },
  {
   "cell_type": "code",
   "execution_count": 3,
   "id": "21dd3b37",
   "metadata": {},
   "outputs": [
    {
     "name": "stdout",
     "output_type": "stream",
     "text": [
      "Connection between MySQL and Python is established.\n",
      "\n"
     ]
    }
   ],
   "source": [
    "connection=connector.connect(user=\"root\",password=\"\", db=\"littlelemondb\")\n",
    "print(\"Connection between MySQL and Python is established.\\n\")"
   ]
  },
  {
   "cell_type": "code",
   "execution_count": 6,
   "id": "247b6db2",
   "metadata": {},
   "outputs": [
    {
     "name": "stdout",
     "output_type": "stream",
     "text": [
      "[('bookings',), ('customers',), ('delivery',), ('menuitems',), ('menus',), ('orders',), ('ordersview',), ('staff',)]\n"
     ]
    }
   ],
   "source": [
    "cursor = connection.cursor()\n",
    "show_tables_query = \"SHOW tables\" \n",
    "cursor.execute(show_tables_query)\n",
    "results = cursor.fetchall()\n",
    "print(results)"
   ]
  },
  {
   "cell_type": "code",
   "execution_count": 8,
   "id": "9e6772a8",
   "metadata": {},
   "outputs": [
    {
     "name": "stdout",
     "output_type": "stream",
     "text": [
      "('FullName', 'Phone', 'Email', 'TotalCost')\n",
      "('Anna Iversen', '5566778899', 'customer1@finalpro.com', Decimal('186'))\n",
      "('Vanessa McCarthy', '9846532229', 'customer3@finalpro.com', Decimal('240'))\n",
      "('Hiroki Yamane', '8734528905', 'customer4@finalpro.com', Decimal('170'))\n",
      "('Marcos Romero', '1830998576', 'customer3@finalpro.com', Decimal('143'))\n",
      "('Diana Pinto', '8846790308', 'customer5@finalpro.com', Decimal('100'))\n"
     ]
    }
   ],
   "source": [
    "cursor = connection.cursor()\n",
    "query = \"\"\"\n",
    "SELECT CONCAT(Customers.FirstName,' ', Customers.LastName) AS FullName, Customers.Phone, Customers.Email, Orders.TotalCost\n",
    "FROM Customers INNER JOIN Orders \n",
    "ON Orders.CustomerID = Customers.CustomerID\n",
    "WHERE TotalCost > 60\n",
    "\"\"\"\n",
    "cursor.execute(query)\n",
    "results = cursor.fetchall()\n",
    "columns=cursor.column_names\n",
    "print(columns)\n",
    "for result in results:\n",
    "    print(result)"
   ]
  },
  {
   "cell_type": "code",
   "execution_count": null,
   "id": "2fe25b30",
   "metadata": {},
   "outputs": [],
   "source": []
  }
 ],
 "metadata": {
  "kernelspec": {
   "display_name": "Python 3 (ipykernel)",
   "language": "python",
   "name": "python3"
  },
  "language_info": {
   "codemirror_mode": {
    "name": "ipython",
    "version": 3
   },
   "file_extension": ".py",
   "mimetype": "text/x-python",
   "name": "python",
   "nbconvert_exporter": "python",
   "pygments_lexer": "ipython3",
   "version": "3.7.4"
  }
 },
 "nbformat": 4,
 "nbformat_minor": 5
}
